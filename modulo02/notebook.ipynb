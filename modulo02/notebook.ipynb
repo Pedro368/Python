{
 "metadata": {
  "language_info": {
   "codemirror_mode": {
    "name": "ipython",
    "version": 3
   },
   "file_extension": ".py",
   "mimetype": "text/x-python",
   "name": "python",
   "nbconvert_exporter": "python",
   "pygments_lexer": "ipython3",
   "version": "3.9.4"
  },
  "orig_nbformat": 2,
  "kernelspec": {
   "name": "python394jvsc74a57bd0ca9afc5d7beaaaf8344e5ecfe08ebe7aa0ece7cde4ebd584e80362ede3feeda4",
   "display_name": "Python 3.9.4 64-bit"
  },
  "metadata": {
   "interpreter": {
    "hash": "ca9afc5d7beaaaf8344e5ecfe08ebe7aa0ece7cde4ebd584e80362ede3feeda4"
   }
  }
 },
 "nbformat": 4,
 "nbformat_minor": 2,
 "cells": [
  {
   "cell_type": "code",
   "execution_count": 1,
   "metadata": {},
   "outputs": [
    {
     "output_type": "stream",
     "name": "stdout",
     "text": [
      "10\nHola a todos\n<class 'int'>\n<class 'str'>\n"
     ]
    }
   ],
   "source": [
    "numero = 10\n",
    "saludo = \"Hola a todos\"\n",
    "\n",
    "print(numero)\n",
    "print(saludo)\n",
    "print(type(numero))\n",
    "print(type(saludo))"
   ]
  },
  {
   "cell_type": "code",
   "execution_count": null,
   "metadata": {},
   "outputs": [],
   "source": []
  }
 ]
}